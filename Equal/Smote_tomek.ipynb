{
 "cells": [
  {
   "cell_type": "code",
   "execution_count": null,
   "metadata": {},
   "outputs": [
    {
     "name": "stderr",
     "output_type": "stream",
     "text": [
      "c:\\Users\\punee\\anaconda3\\Lib\\site-packages\\imblearn\\over_sampling\\_smote\\base.py:345: FutureWarning: The parameter `n_jobs` has been deprecated in 0.10 and will be removed in 0.12. You can pass an nearest neighbors estimator where `n_jobs` is already set instead.\n",
      "  warnings.warn(\n"
     ]
    }
   ],
   "source": [
    "from sklearn.feature_extraction.text import TfidfVectorizer\n",
    "from imblearn.combine import SMOTETomek\n",
    "from collections import Counter\n",
    "import pandas as pd\n",
    "\n",
    "# Load your dataset\n",
    "train_data = pd.read_csv(r'D:\\major_project\\comment_classification\\train.csv')\n",
    "\n",
    "# Extract the features (comment_text) and the target labels (toxic, etc.)\n",
    "X = train_data['comment_text']\n",
    "y_columns = ['toxic', 'severe_toxic', 'obscene', 'threat', 'insult', 'identity_hate']\n",
    "\n",
    "# Apply TF-IDF vectorization to the comment_text (optimize max_features to improve speed and memory)\n",
    "tfidf = TfidfVectorizer(max_features=500)  # Adjust max_features based on your data size and memory\n",
    "X_tfidf = tfidf.fit_transform(X)\n",
    "\n",
    "# Initialize the balanced dataset\n",
    "balanced_data = pd.DataFrame(X, columns=['comment_text'])\n",
    "\n",
    "# Apply SMOTE-Tomek for each label individually\n",
    "smote_tomek = SMOTETomek(n_jobs=-1)  # Utilize multiple processors for faster resampling\n",
    "for label in y_columns:\n",
    "    # Resample the data using SMOTE-Tomek\n",
    "    X_res, y_res = smote_tomek.fit_resample(X_tfidf, train_data[label])\n",
    "    \n",
    "    # Store the balanced labels\n",
    "    balanced_data[label] = y_res\n",
    "\n",
    "# Save the balanced dataset\n",
    "balanced_data.to_csv('balanced_dataset_ST.csv', index=False)\n",
    "\n",
    "# Check the distribution after balancing\n",
    "for label in y_columns:\n",
    "    print(f'Distribution for {label}: {Counter(balanced_data[label])}')\n"
   ]
  },
  {
   "cell_type": "code",
   "execution_count": null,
   "metadata": {},
   "outputs": [
    {
     "name": "stdout",
     "output_type": "stream",
     "text": [
      "Balancing label: toxic\n"
     ]
    },
    {
     "name": "stderr",
     "output_type": "stream",
     "text": [
      "c:\\Users\\punee\\anaconda3\\Lib\\site-packages\\imblearn\\over_sampling\\_smote\\base.py:345: FutureWarning: The parameter `n_jobs` has been deprecated in 0.10 and will be removed in 0.12. You can pass an nearest neighbors estimator where `n_jobs` is already set instead.\n",
      "  warnings.warn(\n"
     ]
    }
   ],
   "source": [
    "from sklearn.feature_extraction.text import TfidfVectorizer\n",
    "from imblearn.combine import SMOTETomek\n",
    "from imblearn.over_sampling import SMOTE\n",
    "from collections import Counter\n",
    "import pandas as pd\n",
    "\n",
    "# Load your dataset (adjust the file path accordingly)\n",
    "train_data = pd.read_csv(r'D:\\major_project\\comment_classification\\train.csv')\n",
    "\n",
    "# Extract the features (comment_text) and the target labels (toxic, etc.)\n",
    "X = train_data['comment_text']\n",
    "y_columns = ['toxic', 'severe_toxic', 'obscene', 'threat', 'insult', 'identity_hate']\n",
    "\n",
    "# Apply TF-IDF vectorization to the comment_text\n",
    "# Adjust max_features based on available memory (fewer features = faster, less memory)\n",
    "tfidf = TfidfVectorizer(max_features=500)  # You can lower this if memory is an issue\n",
    "X_tfidf = tfidf.fit_transform(X)\n",
    "\n",
    "# Initialize SMOTE-Tomek\n",
    "smote_tomek = SMOTETomek(sampling_strategy='auto', smote=SMOTE(n_jobs=-1))\n",
    "\n",
    "# Initialize the balanced dataset\n",
    "balanced_data = pd.DataFrame(X, columns=['comment_text'])\n",
    "\n",
    "# Apply SMOTE-Tomek for each label individually\n",
    "for label in y_columns:\n",
    "    print(f\"Balancing label: {label}\")\n",
    "    \n",
    "    # Resample the data using SMOTE-Tomek for each label\n",
    "    X_res, y_res = smote_tomek.fit_resample(X_tfidf, train_data[label])\n",
    "    \n",
    "    # Store the balanced labels\n",
    "    balanced_data[label] = y_res\n",
    "\n",
    "# Save the balanced dataset (output file)\n",
    "balanced_data.to_csv('balanced_dataset_11.csv', index=False)\n",
    "\n",
    "# Check the distribution after balancing for each label\n",
    "for label in y_columns:\n",
    "    print(f'Distribution for {label}: {Counter(balanced_data[label])}')\n"
   ]
  }
 ],
 "metadata": {
  "kernelspec": {
   "display_name": "base",
   "language": "python",
   "name": "python3"
  },
  "language_info": {
   "codemirror_mode": {
    "name": "ipython",
    "version": 3
   },
   "file_extension": ".py",
   "mimetype": "text/x-python",
   "name": "python",
   "nbconvert_exporter": "python",
   "pygments_lexer": "ipython3",
   "version": "3.11.7"
  }
 },
 "nbformat": 4,
 "nbformat_minor": 2
}
